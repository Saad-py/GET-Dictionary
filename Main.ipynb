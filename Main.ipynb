{
 "cells": [
  {
   "cell_type": "code",
   "execution_count": 27,
   "id": "ba38b5b3",
   "metadata": {},
   "outputs": [],
   "source": [
    "from tkinter import *\n",
    "import tkinter as tk\n",
    "import requests\n",
    "import time\n",
    "import json\n",
    "from datetime import datetime"
   ]
  },
  {
   "cell_type": "code",
   "execution_count": 28,
   "id": "4e2baa84",
   "metadata": {},
   "outputs": [],
   "source": [
    "class Definition():\n",
    "    def __init__(self, word, lang):\n",
    "        self.word = word\n",
    "        self.lang = lang\n",
    "        self.url = \"https://api.dictionaryapi.dev/api/v2/entries/\"+self.lang+\"/\"+self.word\n",
    "        self.req = requests.get(self.url)\n",
    "        \n",
    "    def get_definition(self):\n",
    "        \n",
    "        self.js = self.req.json()[0]\n",
    "        self.meaning = self.js[\"meanings\"][0]\n",
    "        self.definition = self.meaning[\"definitions\"][0]  #definition\n",
    "        return self.definition[\"definition\"]\n",
    "        \n",
    "    def status(self):\n",
    "        return self.req.status_code\n",
    "    \n",
    "    def get_link(self):\n",
    "        self.l = self.req.json()[0][\"phonetics\"][-1]\n",
    "        self.link = self.l[\"audio\"]\n",
    "        return self.link\n"
   ]
  },
  {
   "cell_type": "code",
   "execution_count": 22,
   "id": "65d5c61e",
   "metadata": {},
   "outputs": [],
   "source": [
    "from tkinter import ttk\n",
    "from ttkthemes import ThemedTk\n",
    "import pyglet\n",
    "pyglet.font.add_file('android_7.ttf')\n",
    "import pyperclip as pc"
   ]
  },
  {
   "cell_type": "code",
   "execution_count": 29,
   "id": "35ee68e3",
   "metadata": {},
   "outputs": [],
   "source": [
    "def click():\n",
    "    get_def = Definition(wordV.get(), \"en\")\n",
    "    definition = get_def.get_definition()\n",
    "    defi.config(text=definition)\n",
    "    link.config(text=get_def.get_link())\n",
    "    pc.copy(get_def.get_link())\n",
    "    logF.config(text=str(datetime.now()) + \"  : \" + str(get_def.status()))"
   ]
  },
  {
   "cell_type": "code",
   "execution_count": 30,
   "id": "9909291f",
   "metadata": {},
   "outputs": [],
   "source": [
    "parent = ThemedTk(theme=\"yaru\")\n",
    "parent.resizable(False, False)\n",
    "\n",
    "style = ttk.Style()\n",
    "\n",
    "parent.geometry(\"700x700\")\n",
    "parent.configure(bg='white')\n",
    "\n",
    "style.configure(\"BW.TLabel\", background=\"white\")\n",
    "\n",
    "head = ttk.Label(parent, text=\"GET Dictionary\", style=\"BW.TLabel\")\n",
    "head.grid(row=1, column=2)\n",
    "head.config(font=(\"android 7\", 60))\n",
    "\n",
    "\n",
    "wordV = tk.StringVar(value = \"Enter Word\")\n",
    "color = \"#17A398\"\n",
    "word = tk.Entry(parent, textvariable=wordV, bg=color)\n",
    "word.grid(row=4)\n",
    "word.place(x=40,y=120, height=100, width=600)\n",
    "word.config(font=(\"conolas\", 20))\n",
    "\n",
    "define = tk.Button(parent, text=\"Define\", highlightthickness = 0, bd = 0, borderwidth=0, bg=\"#1ABFC2\", command=click)\n",
    "define.grid(row=4, column=2)\n",
    "define.place(y=240, x=270, height=90, width=150)\n",
    "define.config(font=(\"android 7\", 20))\n",
    "\n",
    "link = Label(parent, text=\"Pronounciation Link -->  \", bg=\"#1ABFC2\", fg=\"#1C1C1C\")\n",
    "link.grid(row=3, column=2)\n",
    "link.place(y=350, height=50, width=700)\n",
    "link.config(font=(\"consolas\", 12))\n",
    "\n",
    "def_ = \"Definition will appear here  \"\n",
    "defi = Label(parent, text=def_, bg=\"#1C1C1C\", fg=\"#1ABFC2\") \n",
    "defi.grid(row=3, column=2)\n",
    "defi.place(y=410, height=90, width=700)\n",
    "defi.config(font=(\"consolas\", 12))\n",
    "\n",
    "logF = Label(parent, text=\"LOG\", bg=\"#1C1C1C\", fg=\"#1ABFC2\")\n",
    "logF.grid(row=3, column=2)\n",
    "logF.place(y=570, height=100, width=700)\n",
    "logF.config(font=(\"consolas\", 12))\n",
    "\n",
    "\n",
    "parent.mainloop()"
   ]
  },
  {
   "cell_type": "code",
   "execution_count": null,
   "id": "a1410deb",
   "metadata": {},
   "outputs": [],
   "source": []
  }
 ],
 "metadata": {
  "kernelspec": {
   "display_name": "Python 3",
   "language": "python",
   "name": "python3"
  },
  "language_info": {
   "codemirror_mode": {
    "name": "ipython",
    "version": 3
   },
   "file_extension": ".py",
   "mimetype": "text/x-python",
   "name": "python",
   "nbconvert_exporter": "python",
   "pygments_lexer": "ipython3",
   "version": "3.8.1"
  }
 },
 "nbformat": 4,
 "nbformat_minor": 5
}
